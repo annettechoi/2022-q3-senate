{
 "cells": [
  {
   "cell_type": "code",
   "execution_count": 31,
   "id": "76d96365",
   "metadata": {},
   "outputs": [],
   "source": [
    "import requests\n",
    "import pandas as pd\n",
    "import json\n",
    "from pprint import pprint\n",
    "import time\n",
    "import gspread"
   ]
  },
  {
   "cell_type": "markdown",
   "id": "e116f1bb",
   "metadata": {},
   "source": [
    "Set up two urls - one for cycle to date totals, one for q3"
   ]
  },
  {
   "cell_type": "code",
   "execution_count": 9,
   "id": "3f6cc3d6",
   "metadata": {},
   "outputs": [],
   "source": [
    "url_CTD = \"https://api.open.fec.gov/v1/committee/idgoeshere/totals/?page=1&sort_hide_null=false&sort=-cycle&sort_null_only=false&per_page=20&sort_nulls_last=false&cycle=2022&api_key=TvP83x8cUz6L2MAHLXPRCPchTzuQLHfU7Pel9pfv\""
   ]
  },
  {
   "cell_type": "markdown",
   "id": "4cbe4559",
   "metadata": {},
   "source": [
    "Filled out from API: filings —> committee —> committee id —> filings"
   ]
  },
  {
   "cell_type": "code",
   "execution_count": 25,
   "id": "8e6a28ff",
   "metadata": {},
   "outputs": [],
   "source": [
    "url_q3 = \"https://api.open.fec.gov/v1/committee/idgoeshere/filings/?api_key=TvP83x8cUz6L2MAHLXPRCPchTzuQLHfU7Pel9pfv&sort=-receipt_date&sort_nulls_last=false&report_year=2022&per_page=20&page=1&sort_hide_null=false&sort_null_only=false&cycle=2022&report_type=Q3\""
   ]
  },
  {
   "cell_type": "code",
   "execution_count": 11,
   "id": "f28feb9f",
   "metadata": {},
   "outputs": [],
   "source": [
    "api_key = \"TvP83x8cUz6L2MAHLXPRCPchTzuQLHfU7Pel9pfv\""
   ]
  },
  {
   "cell_type": "markdown",
   "id": "a8b24de9",
   "metadata": {},
   "source": [
    "List IDs of candidates we want to pull data for"
   ]
  },
  {
   "cell_type": "code",
   "execution_count": 12,
   "id": "1bb88eb4",
   "metadata": {},
   "outputs": [],
   "source": [
    "senate_ids = [[\"C00696526\",\"Mark Kelly\"],[\"C00778407\",\"Jim Lamon\"],[\"C00784165\", \"Blake Masters\"],[\"C00781898\",\"Mark Brnovich\"],[\"C00780791\",\"Mike McGuire\"],[\"C00736876\",\"Raphael Warnock\"],[\"C00787853\",\"Hershel Walker 1\"],[\"C00772962\",\"Hershel Walker 2\"],[\"C00776328\",\"Latham Saddler\"],[\"C00787135\",\"Adam Laxalt 1\"],[\"C00772897\",\"Adam Laxalt 2\"],[\"C00783936\",\"Sam Brown\"],[\"C00765800\",\"John Fetterman\"],[\"C00800623\",\"Dave McCormick\"],[\"C00795930\",\"Mehmet Oz 1\"],[\"C00772871\",\"Mehmet Oz 2\"],[\"C00657411\",\"Conor Lamb\"],[\"C00769604\", \"Alex Lasry\"],[\"C00776740\", \"Sarah Godlewski\"],[\"C00784959\",\"Mandela Barnes\"],[\"C00800847\",\"Chuck Morse\"],[\"C00800326\",\"Kevin Smith\"],[\"C00777904\", \"Cheri Beasley\"],[\"C00614776\",\"Ted Budd 1\"],[\"C00772889\",\"Ted Budd 2\"],[\"C00776757\",\"Patrick McCrory\"],[\"C00790550\",\"Marjorie Eastman\"],[\"C00575548\",\"Catherine Cortez Masto\"],[\"C00482984\",\"Ron Johnson\"],[\"C00588772\",\"Maggie Hassan\"],[\"C00543231\",\"Mark Walker\"]]"
   ]
  },
  {
   "cell_type": "markdown",
   "id": "d8facf77",
   "metadata": {},
   "source": [
    "Create a loop, will go through every ID in the senate_id list"
   ]
  },
  {
   "cell_type": "markdown",
   "id": "d2ec33f9",
   "metadata": {},
   "source": [
    "Use RESP replace to exchange the \"idgoeshere\" holder w/ actual ID"
   ]
  },
  {
   "cell_type": "markdown",
   "id": "5e22f7d5",
   "metadata": {},
   "source": [
    "Set variables, using json, for each layer of data we want to grab -- find where the breakdown of list/dict we were looking at to get this before?"
   ]
  },
  {
   "cell_type": "code",
   "execution_count": 38,
   "id": "31550e41",
   "metadata": {},
   "outputs": [
    {
     "ename": "IndexError",
     "evalue": "list index out of range",
     "output_type": "error",
     "traceback": [
      "\u001b[0;31m---------------------------------------------------------------------------\u001b[0m",
      "\u001b[0;31mIndexError\u001b[0m                                Traceback (most recent call last)",
      "\u001b[0;32m/var/folders/cl/x5_lzg3x66qg7ht7cwkyn5lskgmn_g/T/ipykernel_95665/2686238311.py\u001b[0m in \u001b[0;36m<module>\u001b[0;34m\u001b[0m\n\u001b[1;32m     20\u001b[0m     \u001b[0mq3_results\u001b[0m \u001b[0;34m=\u001b[0m \u001b[0mjson_resp_q3\u001b[0m\u001b[0;34m[\u001b[0m\u001b[0;34m\"results\"\u001b[0m\u001b[0;34m]\u001b[0m\u001b[0;34m\u001b[0m\u001b[0;34m\u001b[0m\u001b[0m\n\u001b[1;32m     21\u001b[0m \u001b[0;34m\u001b[0m\u001b[0m\n\u001b[0;32m---> 22\u001b[0;31m     \u001b[0md\u001b[0m\u001b[0;34m[\u001b[0m\u001b[0;34m'q3_filing'\u001b[0m\u001b[0;34m]\u001b[0m \u001b[0;34m=\u001b[0m \u001b[0mq3_results\u001b[0m\u001b[0;34m[\u001b[0m\u001b[0;36m0\u001b[0m\u001b[0;34m]\u001b[0m\u001b[0;34m[\u001b[0m\u001b[0;34m'total_receipts'\u001b[0m\u001b[0;34m]\u001b[0m\u001b[0;34m\u001b[0m\u001b[0;34m\u001b[0m\u001b[0m\n\u001b[0m\u001b[1;32m     23\u001b[0m \u001b[0;34m\u001b[0m\u001b[0m\n\u001b[1;32m     24\u001b[0m     \u001b[0mdata_list\u001b[0m\u001b[0;34m.\u001b[0m\u001b[0mappend\u001b[0m\u001b[0;34m(\u001b[0m\u001b[0md\u001b[0m\u001b[0;34m)\u001b[0m\u001b[0;34m\u001b[0m\u001b[0;34m\u001b[0m\u001b[0m\n",
      "\u001b[0;31mIndexError\u001b[0m: list index out of range"
     ]
    }
   ],
   "source": [
    "data_list = []\n",
    "for senator in senate_ids:\n",
    "\n",
    "# For cycle to date\n",
    "# THIS WORKS\n",
    "\n",
    "    d = {}\n",
    "    resp = requests.get(url_CTD.replace(\"idgoeshere\",senator[0]))\n",
    "#     print(resp.text)\n",
    "    json_resp = json.loads(resp.text)\n",
    "    receipts_total = json_resp[\"results\"][0][\"receipts\"]\n",
    "    d['total_receipts'] = receipts_total\n",
    "    d['senate_id'] = senator[0]\n",
    "    d['candidate_name'] = senator[1]\n",
    "    \n",
    "# For Q3\n",
    "# THIS DOESN'T WORK -- getting \"list index out of range\"\n",
    "\n",
    "    resp_q3 = requests.get(url_q3.replace(\"idgoeshere\",senator[0]))\n",
    "#     print(resp_q3.text)\n",
    "    json_resp_q3 = json.loads(resp_q3.text)\n",
    "    q3_results = json_resp_q3[\"results\"]\n",
    "\n",
    "    d['q3_filing'] = q3_results[0]['total_receipts']\n",
    "    \n",
    "    data_list.append(d)"
   ]
  },
  {
   "cell_type": "markdown",
   "id": "d274ddd1",
   "metadata": {},
   "source": [
    "Putting that data in a DF"
   ]
  },
  {
   "cell_type": "code",
   "execution_count": 21,
   "id": "c38511d6",
   "metadata": {},
   "outputs": [],
   "source": [
    "senate_df = pd.DataFrame(data_list)"
   ]
  },
  {
   "cell_type": "code",
   "execution_count": 22,
   "id": "16022cdb",
   "metadata": {},
   "outputs": [
    {
     "data": {
      "text/html": [
       "<div>\n",
       "<style scoped>\n",
       "    .dataframe tbody tr th:only-of-type {\n",
       "        vertical-align: middle;\n",
       "    }\n",
       "\n",
       "    .dataframe tbody tr th {\n",
       "        vertical-align: top;\n",
       "    }\n",
       "\n",
       "    .dataframe thead th {\n",
       "        text-align: right;\n",
       "    }\n",
       "</style>\n",
       "<table border=\"1\" class=\"dataframe\">\n",
       "  <thead>\n",
       "    <tr style=\"text-align: right;\">\n",
       "      <th></th>\n",
       "      <th>total_receipts</th>\n",
       "      <th>senate_id</th>\n",
       "      <th>candidate_name</th>\n",
       "      <th>q3_filing</th>\n",
       "    </tr>\n",
       "  </thead>\n",
       "  <tbody>\n",
       "    <tr>\n",
       "      <th>0</th>\n",
       "      <td>54141014.69</td>\n",
       "      <td>C00696526</td>\n",
       "      <td>Mark Kelly</td>\n",
       "      <td>13597355.33</td>\n",
       "    </tr>\n",
       "    <tr>\n",
       "      <th>1</th>\n",
       "      <td>15077976.55</td>\n",
       "      <td>C00778407</td>\n",
       "      <td>Jim Lamon</td>\n",
       "      <td>1216070.96</td>\n",
       "    </tr>\n",
       "    <tr>\n",
       "      <th>2</th>\n",
       "      <td>4950182.20</td>\n",
       "      <td>C00784165</td>\n",
       "      <td>Blake Masters</td>\n",
       "      <td>827574.06</td>\n",
       "    </tr>\n",
       "    <tr>\n",
       "      <th>3</th>\n",
       "      <td>3118529.11</td>\n",
       "      <td>C00781898</td>\n",
       "      <td>Mark Brnovich</td>\n",
       "      <td>526532.20</td>\n",
       "    </tr>\n",
       "    <tr>\n",
       "      <th>4</th>\n",
       "      <td>2467896.25</td>\n",
       "      <td>C00780791</td>\n",
       "      <td>Mike McGuire</td>\n",
       "      <td>348256.77</td>\n",
       "    </tr>\n",
       "    <tr>\n",
       "      <th>5</th>\n",
       "      <td>84914584.33</td>\n",
       "      <td>C00736876</td>\n",
       "      <td>Raphael Warnock</td>\n",
       "      <td>11691245.54</td>\n",
       "    </tr>\n",
       "    <tr>\n",
       "      <th>6</th>\n",
       "      <td>20105065.16</td>\n",
       "      <td>C00787853</td>\n",
       "      <td>Hershel Walker 1</td>\n",
       "      <td>3648123.55</td>\n",
       "    </tr>\n",
       "    <tr>\n",
       "      <th>7</th>\n",
       "      <td>11065.40</td>\n",
       "      <td>C00772962</td>\n",
       "      <td>Hershel Walker 2</td>\n",
       "      <td>112025.13</td>\n",
       "    </tr>\n",
       "    <tr>\n",
       "      <th>8</th>\n",
       "      <td>4263891.70</td>\n",
       "      <td>C00776328</td>\n",
       "      <td>Latham Saddler</td>\n",
       "      <td>172353.33</td>\n",
       "    </tr>\n",
       "    <tr>\n",
       "      <th>9</th>\n",
       "      <td>7239536.54</td>\n",
       "      <td>C00787135</td>\n",
       "      <td>Adam Laxalt 1</td>\n",
       "      <td>1351815.17</td>\n",
       "    </tr>\n",
       "    <tr>\n",
       "      <th>10</th>\n",
       "      <td>8474.19</td>\n",
       "      <td>C00772897</td>\n",
       "      <td>Adam Laxalt 2</td>\n",
       "      <td>98373.55</td>\n",
       "    </tr>\n",
       "    <tr>\n",
       "      <th>11</th>\n",
       "      <td>4298781.37</td>\n",
       "      <td>C00783936</td>\n",
       "      <td>Sam Brown</td>\n",
       "      <td>332794.50</td>\n",
       "    </tr>\n",
       "    <tr>\n",
       "      <th>12</th>\n",
       "      <td>26051772.63</td>\n",
       "      <td>C00765800</td>\n",
       "      <td>John Fetterman</td>\n",
       "      <td>10019248.96</td>\n",
       "    </tr>\n",
       "    <tr>\n",
       "      <th>13</th>\n",
       "      <td>19594634.61</td>\n",
       "      <td>C00800623</td>\n",
       "      <td>Dave McCormick</td>\n",
       "      <td>3644659.46</td>\n",
       "    </tr>\n",
       "    <tr>\n",
       "      <th>14</th>\n",
       "      <td>18882064.59</td>\n",
       "      <td>C00795930</td>\n",
       "      <td>Mehmet Oz 1</td>\n",
       "      <td>3810251.71</td>\n",
       "    </tr>\n",
       "    <tr>\n",
       "      <th>15</th>\n",
       "      <td>9998.18</td>\n",
       "      <td>C00772871</td>\n",
       "      <td>Mehmet Oz 2</td>\n",
       "      <td>113563.43</td>\n",
       "    </tr>\n",
       "    <tr>\n",
       "      <th>16</th>\n",
       "      <td>6349145.52</td>\n",
       "      <td>C00657411</td>\n",
       "      <td>Conor Lamb</td>\n",
       "      <td>216379.00</td>\n",
       "    </tr>\n",
       "    <tr>\n",
       "      <th>17</th>\n",
       "      <td>18748578.71</td>\n",
       "      <td>C00769604</td>\n",
       "      <td>Alex Lasry</td>\n",
       "      <td>7018032.56</td>\n",
       "    </tr>\n",
       "    <tr>\n",
       "      <th>18</th>\n",
       "      <td>6956814.32</td>\n",
       "      <td>C00776740</td>\n",
       "      <td>Sarah Godlewski</td>\n",
       "      <td>1573560.59</td>\n",
       "    </tr>\n",
       "    <tr>\n",
       "      <th>19</th>\n",
       "      <td>7004077.31</td>\n",
       "      <td>C00784959</td>\n",
       "      <td>Mandela Barnes</td>\n",
       "      <td>2110033.73</td>\n",
       "    </tr>\n",
       "    <tr>\n",
       "      <th>20</th>\n",
       "      <td>1577004.52</td>\n",
       "      <td>C00800847</td>\n",
       "      <td>Chuck Morse</td>\n",
       "      <td>538185.08</td>\n",
       "    </tr>\n",
       "    <tr>\n",
       "      <th>21</th>\n",
       "      <td>841673.13</td>\n",
       "      <td>C00800326</td>\n",
       "      <td>Kevin Smith</td>\n",
       "      <td>317665.78</td>\n",
       "    </tr>\n",
       "    <tr>\n",
       "      <th>22</th>\n",
       "      <td>16023250.38</td>\n",
       "      <td>C00777904</td>\n",
       "      <td>Cheri Beasley</td>\n",
       "      <td>6386491.59</td>\n",
       "    </tr>\n",
       "    <tr>\n",
       "      <th>23</th>\n",
       "      <td>6342788.52</td>\n",
       "      <td>C00614776</td>\n",
       "      <td>Ted Budd 1</td>\n",
       "      <td>1805045.50</td>\n",
       "    </tr>\n",
       "    <tr>\n",
       "      <th>24</th>\n",
       "      <td>132950.58</td>\n",
       "      <td>C00772889</td>\n",
       "      <td>Ted Budd 2</td>\n",
       "      <td>127895.80</td>\n",
       "    </tr>\n",
       "    <tr>\n",
       "      <th>25</th>\n",
       "      <td>4644398.58</td>\n",
       "      <td>C00776757</td>\n",
       "      <td>Patrick McCrory</td>\n",
       "      <td>174936.00</td>\n",
       "    </tr>\n",
       "    <tr>\n",
       "      <th>26</th>\n",
       "      <td>843754.67</td>\n",
       "      <td>C00790550</td>\n",
       "      <td>Marjorie Eastman</td>\n",
       "      <td>21772.01</td>\n",
       "    </tr>\n",
       "    <tr>\n",
       "      <th>27</th>\n",
       "      <td>23605209.96</td>\n",
       "      <td>C00575548</td>\n",
       "      <td>Catherine Cortez Masto</td>\n",
       "      <td>3866455.27</td>\n",
       "    </tr>\n",
       "    <tr>\n",
       "      <th>28</th>\n",
       "      <td>16117095.82</td>\n",
       "      <td>C00482984</td>\n",
       "      <td>Ron Johnson</td>\n",
       "      <td>6199929.59</td>\n",
       "    </tr>\n",
       "    <tr>\n",
       "      <th>29</th>\n",
       "      <td>26103142.31</td>\n",
       "      <td>C00588772</td>\n",
       "      <td>Maggie Hassan</td>\n",
       "      <td>5072586.33</td>\n",
       "    </tr>\n",
       "    <tr>\n",
       "      <th>30</th>\n",
       "      <td>834978.54</td>\n",
       "      <td>C00543231</td>\n",
       "      <td>Mark Walker</td>\n",
       "      <td>22462.76</td>\n",
       "    </tr>\n",
       "  </tbody>\n",
       "</table>\n",
       "</div>"
      ],
      "text/plain": [
       "    total_receipts  senate_id          candidate_name    q3_filing\n",
       "0      54141014.69  C00696526              Mark Kelly  13597355.33\n",
       "1      15077976.55  C00778407               Jim Lamon   1216070.96\n",
       "2       4950182.20  C00784165           Blake Masters    827574.06\n",
       "3       3118529.11  C00781898           Mark Brnovich    526532.20\n",
       "4       2467896.25  C00780791            Mike McGuire    348256.77\n",
       "5      84914584.33  C00736876         Raphael Warnock  11691245.54\n",
       "6      20105065.16  C00787853        Hershel Walker 1   3648123.55\n",
       "7         11065.40  C00772962        Hershel Walker 2    112025.13\n",
       "8       4263891.70  C00776328          Latham Saddler    172353.33\n",
       "9       7239536.54  C00787135           Adam Laxalt 1   1351815.17\n",
       "10         8474.19  C00772897           Adam Laxalt 2     98373.55\n",
       "11      4298781.37  C00783936               Sam Brown    332794.50\n",
       "12     26051772.63  C00765800          John Fetterman  10019248.96\n",
       "13     19594634.61  C00800623          Dave McCormick   3644659.46\n",
       "14     18882064.59  C00795930             Mehmet Oz 1   3810251.71\n",
       "15         9998.18  C00772871             Mehmet Oz 2    113563.43\n",
       "16      6349145.52  C00657411              Conor Lamb    216379.00\n",
       "17     18748578.71  C00769604              Alex Lasry   7018032.56\n",
       "18      6956814.32  C00776740         Sarah Godlewski   1573560.59\n",
       "19      7004077.31  C00784959          Mandela Barnes   2110033.73\n",
       "20      1577004.52  C00800847             Chuck Morse    538185.08\n",
       "21       841673.13  C00800326             Kevin Smith    317665.78\n",
       "22     16023250.38  C00777904           Cheri Beasley   6386491.59\n",
       "23      6342788.52  C00614776              Ted Budd 1   1805045.50\n",
       "24       132950.58  C00772889              Ted Budd 2    127895.80\n",
       "25      4644398.58  C00776757         Patrick McCrory    174936.00\n",
       "26       843754.67  C00790550        Marjorie Eastman     21772.01\n",
       "27     23605209.96  C00575548  Catherine Cortez Masto   3866455.27\n",
       "28     16117095.82  C00482984             Ron Johnson   6199929.59\n",
       "29     26103142.31  C00588772           Maggie Hassan   5072586.33\n",
       "30       834978.54  C00543231             Mark Walker     22462.76"
      ]
     },
     "execution_count": 22,
     "metadata": {},
     "output_type": "execute_result"
    }
   ],
   "source": [
    "senate_df"
   ]
  },
  {
   "cell_type": "code",
   "execution_count": 188,
   "id": "e108d54b",
   "metadata": {},
   "outputs": [],
   "source": [
    "senate_df.to_csv(\"2022q2-senate.csv\",index=False)"
   ]
  },
  {
   "cell_type": "markdown",
   "id": "68b7cef4",
   "metadata": {},
   "source": [
    "Followed this tutorial: https://docs.gspread.org/en/latest/oauth2.html\n",
    "Gave access to Drive + Sheets API, named sheet, gave access to client-email from json"
   ]
  },
  {
   "cell_type": "code",
   "execution_count": 32,
   "id": "03fb8ceb",
   "metadata": {},
   "outputs": [],
   "source": [
    "gc = gspread.service_account(filename='/Users/achoi/Downloads/senate-campfin-q3.json')"
   ]
  },
  {
   "cell_type": "code",
   "execution_count": 33,
   "id": "6687c0a3",
   "metadata": {},
   "outputs": [],
   "source": [
    "sh = gc.open(\"2022-q3-senate\")"
   ]
  },
  {
   "cell_type": "code",
   "execution_count": 37,
   "id": "a9b3f5ff",
   "metadata": {},
   "outputs": [
    {
     "data": {
      "text/plain": [
       "{'spreadsheetId': '1LVQ4PD3-i6z2ozGzXv_gkuOmUtnyu2YQ5LzrZ6HwC2A',\n",
       " 'updatedRange': 'Sheet1!A1:D32',\n",
       " 'updatedRows': 32,\n",
       " 'updatedColumns': 4,\n",
       " 'updatedCells': 128}"
      ]
     },
     "execution_count": 37,
     "metadata": {},
     "output_type": "execute_result"
    }
   ],
   "source": [
    "worksheet = sh.worksheet(\"Sheet1\")\n",
    "worksheet.update([senate_df.columns.values.tolist()] + senate_df.values.tolist())"
   ]
  },
  {
   "cell_type": "code",
   "execution_count": null,
   "id": "d47dbdf2",
   "metadata": {},
   "outputs": [],
   "source": []
  },
  {
   "cell_type": "code",
   "execution_count": null,
   "id": "c45b668b",
   "metadata": {},
   "outputs": [],
   "source": []
  },
  {
   "cell_type": "code",
   "execution_count": null,
   "id": "7b11a47d",
   "metadata": {},
   "outputs": [],
   "source": []
  },
  {
   "cell_type": "code",
   "execution_count": null,
   "id": "cc14a909",
   "metadata": {},
   "outputs": [],
   "source": []
  },
  {
   "cell_type": "code",
   "execution_count": null,
   "id": "fde2d181",
   "metadata": {},
   "outputs": [],
   "source": []
  },
  {
   "cell_type": "code",
   "execution_count": null,
   "id": "5b6042e8",
   "metadata": {},
   "outputs": [],
   "source": []
  },
  {
   "cell_type": "code",
   "execution_count": null,
   "id": "f3012988",
   "metadata": {},
   "outputs": [],
   "source": []
  },
  {
   "cell_type": "code",
   "execution_count": null,
   "id": "b5517479",
   "metadata": {},
   "outputs": [],
   "source": []
  },
  {
   "cell_type": "code",
   "execution_count": null,
   "id": "ec4c14df",
   "metadata": {},
   "outputs": [],
   "source": []
  },
  {
   "cell_type": "code",
   "execution_count": null,
   "id": "20a001f1",
   "metadata": {},
   "outputs": [],
   "source": []
  },
  {
   "cell_type": "code",
   "execution_count": null,
   "id": "9a2f79dc",
   "metadata": {},
   "outputs": [],
   "source": []
  },
  {
   "cell_type": "code",
   "execution_count": null,
   "id": "5262a932",
   "metadata": {},
   "outputs": [],
   "source": []
  },
  {
   "cell_type": "code",
   "execution_count": null,
   "id": "b68f261b",
   "metadata": {},
   "outputs": [],
   "source": []
  },
  {
   "cell_type": "code",
   "execution_count": null,
   "id": "d00903e9",
   "metadata": {},
   "outputs": [],
   "source": []
  }
 ],
 "metadata": {
  "kernelspec": {
   "display_name": "Python 3 (ipykernel)",
   "language": "python",
   "name": "python3"
  },
  "language_info": {
   "codemirror_mode": {
    "name": "ipython",
    "version": 3
   },
   "file_extension": ".py",
   "mimetype": "text/x-python",
   "name": "python",
   "nbconvert_exporter": "python",
   "pygments_lexer": "ipython3",
   "version": "3.9.6"
  }
 },
 "nbformat": 4,
 "nbformat_minor": 5
}
